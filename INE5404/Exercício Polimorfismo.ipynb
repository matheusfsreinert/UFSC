{
 "metadata": {
  "language_info": {
   "codemirror_mode": {
    "name": "ipython",
    "version": 3
   },
   "file_extension": ".py",
   "mimetype": "text/x-python",
   "name": "python",
   "nbconvert_exporter": "python",
   "pygments_lexer": "ipython3",
   "version": "3.8.6-final"
  },
  "orig_nbformat": 2,
  "kernelspec": {
   "name": "Python 3.8.6 64-bit",
   "display_name": "Python 3.8.6 64-bit",
   "metadata": {
    "interpreter": {
     "hash": "767d51c1340bd893661ea55ea3124f6de3c7a262a8b4abca0554b478b1e2ff90"
    }
   }
  }
 },
 "nbformat": 4,
 "nbformat_minor": 2,
 "cells": [
  {
   "cell_type": "code",
   "execution_count": 15,
   "metadata": {},
   "outputs": [],
   "source": [
    "class Transporte:\n",
    "    def __init__(self, nome, altura, comprimento, carga, velocidade):\n",
    "        self.nome = nome\n",
    "        self.altura = altura\n",
    "        self.comprimento = comprimento\n",
    "        self.carga = carga\n",
    "        self.velocidade = velocidade\n",
    "\n",
    "    def mostrar(self):\n",
    "        return f\"{self.nome}: \""
   ]
  },
  {
   "cell_type": "code",
   "execution_count": 16,
   "metadata": {},
   "outputs": [],
   "source": [
    "class TransporteAereo(Transporte):\n",
    "    def __init__(self, nome, altura, comprimento, carga, velocidade, autonomia, envergadura):\n",
    "        super().__init__(nome, altura, comprimento, carga, velocidade)\n",
    "        self.autonomia = autonomia\n",
    "        self.envergadura = envergadura\n",
    "\n",
    "    def mostrar(self):\n",
    "        return super().mostrar() + \"Transporte aéreo\""
   ]
  },
  {
   "cell_type": "code",
   "execution_count": 17,
   "metadata": {},
   "outputs": [],
   "source": [
    "class TransporteTerrestre(Transporte):\n",
    "    def __init__(self, nome, altura, comprimento, carga, velocidade, motor, rodas):\n",
    "        super().__init__(nome, altura, comprimento, carga, velocidade)\n",
    "        self.motor = motor\n",
    "        self.rodas = rodas\n",
    "\n",
    "    def mostrar(self):\n",
    "        return super().mostrar() + \"Transporte terreste\""
   ]
  },
  {
   "cell_type": "code",
   "execution_count": 18,
   "metadata": {},
   "outputs": [],
   "source": [
    "class TransporteAquatico(Transporte):\n",
    "    def __init__(self, nome, altura, comprimento, carga, velocidade, boca, calado):\n",
    "        super().__init__(nome, altura, comprimento, carga, velocidade)\n",
    "        self.boca = boca\n",
    "        self.calado = calado\n",
    "\n",
    "    def mostrar(self):\n",
    "        return super().mostrar() + \"Transporte aquático\""
   ]
  },
  {
   "cell_type": "code",
   "execution_count": 19,
   "metadata": {},
   "outputs": [],
   "source": [
    "class Catalogo:\n",
    "    def __init__(self):\n",
    "        self.__veiculos = []\n",
    "\n",
    "    def insercao(self, veiculo):\n",
    "        if isinstance(veiculo, Transporte):\n",
    "            self.__veiculos.append(veiculo)\n",
    "\n",
    "    def apresentacao(self):\n",
    "        for veiculo in self.__veiculos:\n",
    "            print(veiculo.mostrar())"
   ]
  },
  {
   "cell_type": "code",
   "execution_count": 20,
   "metadata": {
    "tags": []
   },
   "outputs": [
    {
     "output_type": "stream",
     "name": "stdout",
     "text": "Hunter13: Transporte aéreo\nDiver24: Transporte aquático\nFlier69: Transporte aéreo\n"
    }
   ],
   "source": [
    "#Teste\n",
    "a = TransporteAereo(\"Hunter13\", 155, 200, 500, 200, 7, 30)\n",
    "b = TransporteAquatico(\"Diver24\", 231, 315, 1000, 400, 30, 20)\n",
    "c = TransporteAereo(\"Flier69\", 145, 200, 890, 600, 200, 45)\n",
    "catalogo = Catalogo()\n",
    "catalogo.insercao(a)\n",
    "catalogo.insercao(b)\n",
    "catalogo.insercao(c)\n",
    "catalogo.apresentacao()"
   ]
  }
 ]
}