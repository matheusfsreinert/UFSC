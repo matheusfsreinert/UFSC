{
 "metadata": {
  "language_info": {
   "codemirror_mode": {
    "name": "ipython",
    "version": 3
   },
   "file_extension": ".py",
   "mimetype": "text/x-python",
   "name": "python",
   "nbconvert_exporter": "python",
   "pygments_lexer": "ipython3",
   "version": "3.8.5-final"
  },
  "orig_nbformat": 2,
  "kernelspec": {
   "name": "python38564bit6af9eae8c516447f8c0ebc2bc337bca6",
   "display_name": "Python 3.8.5 64-bit"
  }
 },
 "nbformat": 4,
 "nbformat_minor": 2,
 "cells": [
  {
   "cell_type": "code",
   "execution_count": 17,
   "metadata": {
    "tags": []
   },
   "outputs": [
    {
     "output_type": "stream",
     "name": "stdout",
     "text": "[1, 2, 3, 4, 5]\n"
    }
   ],
   "source": [
    "vetor = []\n",
    "for i in range(5):\n",
    "    n = int(input(f\"{i + 1} de 5. Digite o número inteiro para adicionar no vetor: \"))\n",
    "    vetor.append(n)\n",
    "print(vetor)"
   ]
  },
  {
   "cell_type": "code",
   "execution_count": 19,
   "metadata": {
    "tags": []
   },
   "outputs": [
    {
     "output_type": "stream",
     "name": "stdout",
     "text": "[0, 9, 8, 7, 6, 5, 4, 3, 2, 1]\n"
    }
   ],
   "source": [
    "vetor = []\n",
    "for i in range(10):\n",
    "    n = int(input(f\"{i + 1} de 10. Digite o número real para adicionar no vetor: \"))\n",
    "    vetor.append(n)\n",
    "vetor.reverse()\n",
    "print(vetor)"
   ]
  },
  {
   "cell_type": "code",
   "execution_count": 22,
   "metadata": {
    "tags": []
   },
   "outputs": [
    {
     "output_type": "stream",
     "name": "stdout",
     "text": "6.5\n"
    }
   ],
   "source": [
    "notas = []\n",
    "for i in range(4):\n",
    "    n = int(input(f\"Digite {i + 1}ª nota do aluno: \"))\n",
    "    notas.append(n)\n",
    "resultado = 0\n",
    "for nota in notas:\n",
    "    resultado += nota\n",
    "print(resultado / len(notas))"
   ]
  },
  {
   "cell_type": "code",
   "execution_count": 3,
   "metadata": {
    "tags": []
   },
   "outputs": [
    {
     "output_type": "stream",
     "name": "stdout",
     "text": "7 consoates no vetor: ['b', 'c', 'd', 'f', 'g', 'h', 'j']\n"
    }
   ],
   "source": [
    "vogais = ['a', 'e', 'i', 'o', 'u']\n",
    "vetor = []\n",
    "for i in range(10):\n",
    "    n = str(input(f\"{i + 1} de 10. Digite um carácter para adicionar no vetor: \"))\n",
    "    vetor.append(n)\n",
    "consoantes_vetor = []\n",
    "consoantes_lidas = 0\n",
    "for char in vetor:\n",
    "    if char not in vogais:\n",
    "        consoantes_vetor.append(char)\n",
    "        consoantes_lidas += 1\n",
    "print(f\"{consoantes_lidas} consoates no vetor: {consoantes_vetor}\")"
   ]
  },
  {
   "cell_type": "code",
   "execution_count": 5,
   "metadata": {
    "tags": []
   },
   "outputs": [
    {
     "output_type": "stream",
     "name": "stdout",
     "text": "[1, 2, 3, 4, 5, 6, 7, 8, 9, 10, 11, 12, 13, 14, 15, 16, 17, 18, 19, 20]\n[1, 3, 5, 7, 9, 11, 13, 15, 17, 19]\n[2, 4, 6, 8, 10, 12, 14, 16, 18, 20]\n"
    }
   ],
   "source": [
    "numeros = []\n",
    "impares = []\n",
    "pares = []\n",
    "for i in range(20):\n",
    "    n = int(input(f\"{i + 1} de 20. Digite o número inteiro que você deseja: \"))\n",
    "    numeros.append(n)\n",
    "    if n % 2 == 0:\n",
    "        pares.append(n)\n",
    "    else:\n",
    "        impares.append(n)\n",
    "print(numeros)\n",
    "print(impares)\n",
    "print(pares)"
   ]
  },
  {
   "cell_type": "code",
   "execution_count": null,
   "metadata": {},
   "outputs": [],
   "source": []
  }
 ]
}