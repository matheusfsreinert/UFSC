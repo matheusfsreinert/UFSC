{
 "metadata": {
  "language_info": {
   "codemirror_mode": {
    "name": "ipython",
    "version": 3
   },
   "file_extension": ".py",
   "mimetype": "text/x-python",
   "name": "python",
   "nbconvert_exporter": "python",
   "pygments_lexer": "ipython3",
   "version": "3.8.5-final"
  },
  "orig_nbformat": 2,
  "kernelspec": {
   "name": "python_defaultSpec_1600635500718",
   "display_name": "Python 3.8.5 64-bit"
  }
 },
 "nbformat": 4,
 "nbformat_minor": 2,
 "cells": [
  {
   "cell_type": "code",
   "execution_count": null,
   "metadata": {
    "tags": []
   },
   "outputs": [],
   "source": [
    "#Exercício 1\n",
    "vetor = []\n",
    "for i in range(5):\n",
    "    n = int(input(f\"{i + 1} de 5. Digite o número inteiro para adicionar no vetor: \"))\n",
    "    vetor.append(n)\n",
    "print(vetor)"
   ]
  },
  {
   "cell_type": "code",
   "execution_count": null,
   "metadata": {
    "tags": []
   },
   "outputs": [],
   "source": [
    "#Exercício 2\n",
    "vetor = []\n",
    "for i in range(10):\n",
    "    n = int(input(f\"{i + 1} de 10. Digite o número real para adicionar no vetor: \"))\n",
    "    vetor.append(n)\n",
    "vetor.reverse()\n",
    "print(vetor)"
   ]
  },
  {
   "cell_type": "code",
   "execution_count": null,
   "metadata": {
    "tags": []
   },
   "outputs": [],
   "source": [
    "#Exercício 3\n",
    "notas = []\n",
    "for i in range(4):\n",
    "    n = int(input(f\"Digite {i + 1}ª nota do aluno: \"))\n",
    "    notas.append(n)\n",
    "resultado = 0\n",
    "for nota in notas:\n",
    "    resultado += nota\n",
    "print(resultado / len(notas))"
   ]
  },
  {
   "cell_type": "code",
   "execution_count": null,
   "metadata": {
    "tags": []
   },
   "outputs": [],
   "source": [
    "vogais = ['a', 'e', 'i', 'o', 'u']\n",
    "vetor = []\n",
    "for i in range(10):\n",
    "    n = str(input(f\"{i + 1} de 10. Digite um carácter para adicionar no vetor: \"))\n",
    "    vetor.append(n)\n",
    "consoantes_vetor = []\n",
    "consoantes_lidas = 0\n",
    "for char in vetor:\n",
    "    if char not in vogais:\n",
    "        consoantes_vetor.append(char)\n",
    "        consoantes_lidas += 1\n",
    "print(f\"{consoantes_lidas} consoates no vetor: {consoantes_vetor}\")"
   ]
  },
  {
   "cell_type": "code",
   "execution_count": null,
   "metadata": {
    "tags": []
   },
   "outputs": [],
   "source": [
    "numeros = []\n",
    "impares = []\n",
    "pares = []\n",
    "for i in range(20):\n",
    "    n = int(input(f\"{i + 1} de 20. Digite o número inteiro que você deseja: \"))\n",
    "    numeros.append(n)\n",
    "    if n % 2 == 0:\n",
    "        pares.append(n)\n",
    "    else:\n",
    "        impares.append(n)\n",
    "print(numeros)\n",
    "print(impares)\n",
    "print(pares)"
   ]
  },
  {
   "cell_type": "code",
   "execution_count": null,
   "metadata": {
    "tags": []
   },
   "outputs": [],
   "source": [
    "notas = []\n",
    "for i in range(10):\n",
    "    notas_aluno = []\n",
    "    for j in range(4):\n",
    "        n = float(input(f\"Aluno {i + 1} de 10: Digite a {j + 1}ª nota: \"))\n",
    "        notas_aluno.append(n)\n",
    "    notas.append(notas_aluno)\n",
    "alunos_acima_da_media = 0\n",
    "for aluno in notas:\n",
    "    resultado = 0\n",
    "    for nota in aluno:\n",
    "        resultado += nota\n",
    "    media = resultado / len(aluno)\n",
    "    if media >= 7:\n",
    "        alunos_acima_da_media += 1\n",
    "print(alunos_acima_da_media)"
   ]
  },
  {
   "cell_type": "code",
   "execution_count": null,
   "metadata": {
    "tags": []
   },
   "outputs": [],
   "source": [
    "numeros = []\n",
    "for i in range(5):\n",
    "    n = int(input(f\"{i + 1} de 5. Digite o número inteiro para adicionar no vetor: \"))\n",
    "    numeros.append(n)\n",
    "soma = 0\n",
    "multiplicacao = 1\n",
    "for numero in numeros:\n",
    "    soma += numero\n",
    "    multiplicacao *= numero\n",
    "print(f\"Números: {numeros}\")\n",
    "print(f\"Soma: {soma}\")\n",
    "print(f\"Multiplicação: {multiplicacao}\")"
   ]
  },
  {
   "cell_type": "code",
   "execution_count": null,
   "metadata": {
    "tags": []
   },
   "outputs": [],
   "source": [
    "pessoas = []\n",
    "for i in range(5):\n",
    "    idade = int(input(f\"Digite a idade da {i + 1}ª pessoa: \"))\n",
    "    altura = int(input(f\"Digite a altura da {i + 1}ªpessoa: \"))\n",
    "    pessoas.append([idade, altura])\n",
    "pessoas.reverse()\n",
    "for i in range(len(pessoas)):\n",
    "    print(f\"{5 - i}ª pessoa: idade de {pessoas[i][0]} anos e medindo {pessoas[i][1]}cm\")"
   ]
  },
  {
   "cell_type": "code",
   "execution_count": null,
   "metadata": {
    "tags": []
   },
   "outputs": [],
   "source": [
    "for i in range(10):\n",
    "    n = int(input(f\"{i + 1} de 10. Digite o número inteiro para inserir no vetor: \"))\n",
    "resultado = 0\n",
    "for n in A:\n",
    "    resultado += n ** 2\n",
    "print(resultado)"
   ]
  },
  {
   "cell_type": "code",
   "execution_count": null,
   "metadata": {
    "tags": []
   },
   "outputs": [],
   "source": [
    "a = []\n",
    "b = []\n",
    "c = []\n",
    "for i in range(10):\n",
    "    n = int(input(f\"{i + 1} de 10. Digite o número inteiro para inserir no vetor A: \"))\n",
    "    a.append(n)\n",
    "for i in range(10):\n",
    "    n = int(input(f\"{i + 1} de 10. Digite o número inteiro para inserir no vetor B: \"))\n",
    "    b.append(n)\n",
    "for i in range(len(a)):\n",
    "    c.append(a[i])\n",
    "    c.append(b[i])\n",
    "print(c)"
   ]
  },
  {
   "cell_type": "code",
   "execution_count": null,
   "metadata": {
    "tags": []
   },
   "outputs": [],
   "source": [
    "a = []\n",
    "b = []\n",
    "c = []\n",
    "d = []\n",
    "for i in range(10):\n",
    "    n = int(input(f\"{i + 1} de 10. Digite o número inteiro para inserir no vetor A: \"))\n",
    "    a.append(n)\n",
    "for i in range(10):\n",
    "    n = int(input(f\"{i + 1} de 10. Digite o número inteiro para inserir no vetor B: \"))\n",
    "    b.append(n)\n",
    "for i in range(10):\n",
    "    n = int(input(f\"{i + 1} de 10. Digite o número inteiro para inserir no vetor C: \"))\n",
    "    c.append(n)\n",
    "for i in range(len(a)):\n",
    "    d.append(a[i])\n",
    "    d.append(b[i])\n",
    "    d.append(c[i])\n",
    "print(d)"
   ]
  },
  {
   "cell_type": "code",
   "execution_count": null,
   "metadata": {
    "tags": []
   },
   "outputs": [],
   "source": [
    "alunos = []\n",
    "for i in range(30):\n",
    "    idade = int(input(f\"{i + 1} de 30. Digite a idade do aluno: \"))\n",
    "    altura = int(input(f\"{i + 1} de 30. Digite a altura do aluno: \"))\n",
    "    aluno = [idade, altura]\n",
    "    alunos.append(aluno)\n",
    "soma_altura = 0\n",
    "for aluno in alunos:\n",
    "    soma_altura += aluno[1]\n",
    "media_altura = soma_altura / len(alunos)\n",
    "resultado = 0\n",
    "for aluno in alunos:\n",
    "    if aluno[0] > 13 and aluno[1] < media_altura:\n",
    "        resultado += 1\n",
    "print(resultado)"
   ]
  },
  {
   "cell_type": "code",
   "execution_count": null,
   "metadata": {
    "tags": []
   },
   "outputs": [],
   "source": [
    "temperaturas = [30, 31, 27, 28, 15, 16, 12, 19, 17, 25, 29, 35]\n",
    "meses = [\"Janeiro\", \"Fevereiro\", \"Março\", \"Abril\", \"Maio\", \"Junho\", \"Julho\", \"Agosto\", \"Setembro\", \"Outubro\", \"Novembro\", \"Dezembro\"]\n",
    "soma = 0\n",
    "for temperatura in temperaturas:\n",
    "    soma += temperatura\n",
    "media = soma / len(temperaturas)\n",
    "for i in range(len(temperaturas)):\n",
    "    if temperaturas[i] > media:\n",
    "        print(f\"{i + 1} - {meses[i]}\")"
   ]
  },
  {
   "cell_type": "code",
   "execution_count": null,
   "metadata": {
    "tags": []
   },
   "outputs": [],
   "source": [
    "perguntas = [\"Telefonou para a vítima?\", \"Esteve no local do crime?\", \"Mora perto da vítima?\", \"Devia para a vítima?\", \"Já trabalhou com a vítima?\"]\n",
    "respostas = []\n",
    "for pergunta in perguntas:\n",
    "    print(pergunta)\n",
    "    resposta = str(input(\"Resposta: \"))\n",
    "    if resposta.lower() == \"sim\": #já que só importa quantas repostas foram sim\n",
    "        respostas.append(resposta)\n",
    "if len(respostas) == 2:\n",
    "    print(\"Suspeita\")\n",
    "elif len(respostas) == 3 or len(respostas) == 4:\n",
    "    print(\"Cúmplice\")\n",
    "elif len(respostas) == 5:\n",
    "    print(\"Assassino\")\n",
    "else:\n",
    "    print(\"Inocente\") "
   ]
  },
  {
   "cell_type": "code",
   "execution_count": null,
   "metadata": {
    "tags": []
   },
   "outputs": [],
   "source": [
    "#Exercício 15\n",
    "notas = []\n",
    "while True:\n",
    "    n = float(input(\"Digite a nota (-1 para parar): \"))\n",
    "    if n == -1:\n",
    "        break\n",
    "    else:\n",
    "        notas.append(n)\n",
    "\n",
    "print(f\"Quantidade de valores lidos: {len(notas)}\")\n",
    "\n",
    "print(\"Valores: \", end = '')\n",
    "for i in range(len(notas) - 1):#Pra deixar mais bonito o print\n",
    "    print(f\"{notas[i]}, \", end = '')\n",
    "print(f\"{notas[-1]}.\")\n",
    "\n",
    "notas.reverse()\n",
    "print(\"Ordem inversa:\")\n",
    "for nota in notas:\n",
    "    print(nota)\n",
    "\n",
    "soma = 0\n",
    "for nota in notas:\n",
    "    soma += nota\n",
    "print(f\"Soma dos valores: {soma}\")\n",
    "\n",
    "media = soma / len(notas)\n",
    "print(f\"Média dos valores: {media}\")\n",
    "\n",
    "acima_media = 0\n",
    "for nota in notas:\n",
    "    if nota > media:\n",
    "        acima_media += 1\n",
    "print(f\"Valores acima da média: {acima_media}\")\n",
    "\n",
    "abaixo_sete = 0\n",
    "for nota in notas:\n",
    "    if nota < 7:\n",
    "        abaixo_sete += 1\n",
    "print(f\"Valores abaixo de 7: {abaixo_sete}\")\n",
    "print(\"Para os melhores professores :D\")"
   ]
  },
  {
   "cell_type": "code",
   "execution_count": null,
   "metadata": {
    "tags": []
   },
   "outputs": [],
   "source": [
    "#Exercício 16"
   ]
  },
  {
   "cell_type": "code",
   "execution_count": null,
   "metadata": {
    "tags": []
   },
   "outputs": [],
   "source": [
    "#Exercício 17\n",
    "class Atleta:\n",
    "\n",
    "    def __init__(self, nome, saltos):\n",
    "        self.nome = nome\n",
    "        self.saltos = saltos\n",
    "        soma = 0\n",
    "        for salto in self.saltos:\n",
    "            soma += salto\n",
    "        self.media = soma / len(self.saltos)\n",
    "atletas = []\n",
    "while True:\n",
    "    saltos = []\n",
    "    nome = str(input(\"Digite o nome do atleta: \"))\n",
    "    if nome == '':\n",
    "        break\n",
    "    for i in range(5):\n",
    "        salto = float(input(f\"Digite o {i + 1}° saltos do atleta: \"))\n",
    "        saltos.append(salto)\n",
    "    atletas.append(Atleta(nome, saltos))   \n",
    "\n",
    "for atleta in atletas:\n",
    "    print(atleta.nome + \"\\n\")\n",
    "    for i in range(len(atleta.saltos)):\n",
    "        print(f\"{i + 1}° salto: {atleta.saltos[i]}\")\n",
    "    print(\"\\nResultado final:\")\n",
    "    print(f\"Atleta: {atleta.nome}\")\n",
    "    print(\"Saltos: \", end = '')\n",
    "    for i in range(len(atleta.saltos) - 1):\n",
    "        print(f\"{atleta.saltos[i]} - \", end = '')\n",
    "    print(atleta.saltos[-1])\n",
    "    print(f\"Média dos saltos: {atleta.media}\\n\")\n",
    "    "
   ]
  },
  {
   "cell_type": "code",
   "execution_count": null,
   "metadata": {
    "tags": []
   },
   "outputs": [],
   "source": [
    "#Exercício 18\n",
    "jogadores = []#O número da camisa do jogador corresponde ao indice mais um da lista (numero da camisa = i + 1)\n",
    "for i in range(23):\n",
    "    jogadores.append(0)\n",
    "while True:\n",
    "    jogador = int(input(\"Digite o número da camisa do jogador: \"))\n",
    "    if jogador == 0:\n",
    "        break\n",
    "    elif jogador > 23 or jogador < 0:\n",
    "        print(\"Número inválido tente novamente.\")\n",
    "        pass\n",
    "    else:\n",
    "        jogadores[jogador - 1] += 1\n",
    "total_votos = 0\n",
    "for jogador in jogadores:\n",
    "    total_votos += jogador\n",
    "print(f\"Total de votos computados: {total_votos}\")\n",
    "for i in range(len(jogadores)):\n",
    "    if jogadores[i] > 0:\n",
    "        percentual = round((jogadores[i] / total_votos) * 100, 2)\n",
    "        print(f\"Jogador camisa {i + 1}: {jogadores[i]} votos. Percentual: {percentual}%\")\n",
    "melhor_jogador = max(jogadores)\n",
    "numero_melhor_jogador = jogadores.index(max(jogadores)) + 1\n",
    "percentual = round(jogadores[jogadores.index(max(jogadores))] / total_votos * 100, 2)\n",
    "print(f\"Melhor jogador da partida: camisa {numero_melhor_jogador} com {percentual}% dos votos\")\n",
    "        "
   ]
  },
  {
   "cell_type": "code",
   "execution_count": null,
   "metadata": {},
   "outputs": [],
   "source": []
  }
 ]
}