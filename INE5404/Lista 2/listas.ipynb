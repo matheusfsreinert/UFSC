{
 "metadata": {
  "language_info": {
   "codemirror_mode": {
    "name": "ipython",
    "version": 3
   },
   "file_extension": ".py",
   "mimetype": "text/x-python",
   "name": "python",
   "nbconvert_exporter": "python",
   "pygments_lexer": "ipython3",
   "version": "3.8.5-final"
  },
  "orig_nbformat": 2,
  "kernelspec": {
   "name": "python38564bit6af9eae8c516447f8c0ebc2bc337bca6",
   "display_name": "Python 3.8.5 64-bit"
  }
 },
 "nbformat": 4,
 "nbformat_minor": 2,
 "cells": [
  {
   "cell_type": "code",
   "execution_count": null,
   "metadata": {
    "tags": []
   },
   "outputs": [],
   "source": [
    "vetor = []\n",
    "for i in range(5):\n",
    "    n = int(input(f\"{i + 1} de 5. Digite o número inteiro para adicionar no vetor: \"))\n",
    "    vetor.append(n)\n",
    "print(vetor)"
   ]
  },
  {
   "cell_type": "code",
   "execution_count": null,
   "metadata": {
    "tags": []
   },
   "outputs": [],
   "source": [
    "vetor = []\n",
    "for i in range(10):\n",
    "    n = int(input(f\"{i + 1} de 10. Digite o número real para adicionar no vetor: \"))\n",
    "    vetor.append(n)\n",
    "vetor.reverse()\n",
    "print(vetor)"
   ]
  },
  {
   "cell_type": "code",
   "execution_count": null,
   "metadata": {
    "tags": []
   },
   "outputs": [],
   "source": [
    "notas = []\n",
    "for i in range(4):\n",
    "    n = int(input(f\"Digite {i + 1}ª nota do aluno: \"))\n",
    "    notas.append(n)\n",
    "resultado = 0\n",
    "for nota in notas:\n",
    "    resultado += nota\n",
    "print(resultado / len(notas))"
   ]
  },
  {
   "cell_type": "code",
   "execution_count": null,
   "metadata": {
    "tags": []
   },
   "outputs": [],
   "source": [
    "vogais = ['a', 'e', 'i', 'o', 'u']\n",
    "vetor = []\n",
    "for i in range(10):\n",
    "    n = str(input(f\"{i + 1} de 10. Digite um carácter para adicionar no vetor: \"))\n",
    "    vetor.append(n)\n",
    "consoantes_vetor = []\n",
    "consoantes_lidas = 0\n",
    "for char in vetor:\n",
    "    if char not in vogais:\n",
    "        consoantes_vetor.append(char)\n",
    "        consoantes_lidas += 1\n",
    "print(f\"{consoantes_lidas} consoates no vetor: {consoantes_vetor}\")"
   ]
  },
  {
   "cell_type": "code",
   "execution_count": null,
   "metadata": {
    "tags": []
   },
   "outputs": [],
   "source": [
    "numeros = []\n",
    "impares = []\n",
    "pares = []\n",
    "for i in range(20):\n",
    "    n = int(input(f\"{i + 1} de 20. Digite o número inteiro que você deseja: \"))\n",
    "    numeros.append(n)\n",
    "    if n % 2 == 0:\n",
    "        pares.append(n)\n",
    "    else:\n",
    "        impares.append(n)\n",
    "print(numeros)\n",
    "print(impares)\n",
    "print(pares)"
   ]
  },
  {
   "cell_type": "code",
   "execution_count": null,
   "metadata": {
    "tags": []
   },
   "outputs": [],
   "source": [
    "notas = []\n",
    "for i in range(10):\n",
    "    notas_aluno = []\n",
    "    for j in range(4):\n",
    "        n = float(input(f\"Aluno {i + 1} de 10: Digite a {j + 1}ª nota: \"))\n",
    "        notas_aluno.append(n)\n",
    "    notas.append(notas_aluno)\n",
    "alunos_acima_da_media = 0\n",
    "for aluno in notas:\n",
    "    resultado = 0\n",
    "    for nota in aluno:\n",
    "        resultado += nota\n",
    "    media = resultado / len(aluno)\n",
    "    if media >= 7:\n",
    "        alunos_acima_da_media += 1\n",
    "print(alunos_acima_da_media)"
   ]
  },
  {
   "cell_type": "code",
   "execution_count": null,
   "metadata": {
    "tags": []
   },
   "outputs": [],
   "source": [
    "numeros = []\n",
    "for i in range(5):\n",
    "    n = int(input(f\"{i + 1} de 5. Digite o número inteiro para adicionar no vetor: \"))\n",
    "    numeros.append(n)\n",
    "soma = 0\n",
    "multiplicacao = 1\n",
    "for numero in numeros:\n",
    "    soma += numero\n",
    "    multiplicacao *= numero\n",
    "print(f\"Números: {numeros}\")\n",
    "print(f\"Soma: {soma}\")\n",
    "print(f\"Multiplicação: {multiplicacao}\")"
   ]
  },
  {
   "cell_type": "code",
   "execution_count": null,
   "metadata": {
    "tags": []
   },
   "outputs": [],
   "source": [
    "pessoas = []\n",
    "for i in range(5):\n",
    "    idade = int(input(f\"Digite a idade da {i + 1}ª pessoa: \"))\n",
    "    altura = int(input(f\"Digite a altura da {i + 1}ªpessoa: \"))\n",
    "    pessoas.append([idade, altura])\n",
    "pessoas.reverse()\n",
    "for i in range(len(pessoas)):\n",
    "    print(f\"{5 - i}ª pessoa: idade de {pessoas[i][0]} anos e medindo {pessoas[i][1]}cm\")"
   ]
  },
  {
   "cell_type": "code",
   "execution_count": null,
   "metadata": {
    "tags": []
   },
   "outputs": [],
   "source": [
    "for i in range(10):\n",
    "    n = int(input(f\"{i + 1} de 10. Digite o número inteiro para inserir no vetor: \"))\n",
    "resultado = 0\n",
    "for n in A:\n",
    "    resultado += n ** 2\n",
    "print(resultado)"
   ]
  },
  {
   "cell_type": "code",
   "execution_count": 4,
   "metadata": {
    "tags": []
   },
   "outputs": [
    {
     "output_type": "stream",
     "name": "stdout",
     "text": "[1, 2, 1, 2, 1, 2, 1, 2, 1, 2, 1, 2, 1, 2, 1, 2, 1, 2, 1, 2]\n"
    }
   ],
   "source": [
    "a = []\n",
    "b = []\n",
    "c = []\n",
    "for i in range(10):\n",
    "    n = int(input(f\"{i + 1} de 10. Digite o número inteiro para inserir no vetor A: \"))\n",
    "    a.append(n)\n",
    "for i in range(10):\n",
    "    n = int(input(f\"{i + 1} de 10. Digite o número inteiro para inserir no vetor B: \"))\n",
    "    b.append(n)\n",
    "for i in range(len(a)):\n",
    "    c.append(a[i])\n",
    "    c.append(b[i])\n",
    "print(c)"
   ]
  },
  {
   "cell_type": "code",
   "execution_count": 8,
   "metadata": {
    "tags": []
   },
   "outputs": [
    {
     "output_type": "stream",
     "name": "stdout",
     "text": "[1, 2, 3, 1, 2, 3, 1, 2, 3, 1, 2, 3, 1, 2, 3, 1, 2, 3, 1, 2, 3, 1, 2, 3, 1, 2, 3, 1, 2, 3]\n"
    }
   ],
   "source": [
    "a = []\n",
    "b = []\n",
    "c = []\n",
    "d = []\n",
    "for i in range(10):\n",
    "    n = int(input(f\"{i + 1} de 10. Digite o número inteiro para inserir no vetor A: \"))\n",
    "    a.append(n)\n",
    "for i in range(10):\n",
    "    n = int(input(f\"{i + 1} de 10. Digite o número inteiro para inserir no vetor B: \"))\n",
    "    b.append(n)\n",
    "for i in range(10):\n",
    "    n = int(input(f\"{i + 1} de 10. Digite o número inteiro para inserir no vetor B: \"))\n",
    "    c.append(n)\n",
    "for i in range(len(a)):\n",
    "    d.append(a[i])\n",
    "    d.append(b[i])\n",
    "    d.append(c[i])\n",
    "print(d)"
   ]
  },
  {
   "cell_type": "code",
   "execution_count": null,
   "metadata": {},
   "outputs": [],
   "source": []
  }
 ]
}